{
 "cells": [
  {
   "cell_type": "markdown",
   "metadata": {},
   "source": [
    "# 記述統計の復習"
   ]
  },
  {
   "cell_type": "markdown",
   "metadata": {},
   "source": [
    "###  1変量観測値\n",
    "\n",
    "$x_1, \\cdots, x_n$: 与えられた観測値(ブロック体小文字)\n",
    "\n",
    "ここで$n$は標本の大きさ(sample size)という。"
   ]
  },
  {
   "cell_type": "markdown",
   "metadata": {},
   "source": [
    "####  定義 (標本平均)\n",
    "$x_1, \\cdots, x_n$の観測値が与えられたもとで、標本平均(mean, average) $\\bar{x}$は次のように定義される。\n",
    "\n",
    "$$\n",
    "\\begin{align*}\n",
    "\\bar{x} &= \\frac{x_1 + \\cdots + x_n}{n} \\\\\n",
    "&= \\frac{\\sum_{i=1}^{n} x_i}{n}\n",
    "\\end{align*}\n",
    "$$\n",
    "\n",
    "標本平均は、算術平均(arithmetic average)ともよばれる。"
   ]
  },
  {
   "cell_type": "markdown",
   "metadata": {},
   "source": [
    "####  定義 (標本分散)\n",
    "$x_1, \\cdots, x_n$の観測値が与えられたもとで、標本分散(variance) $s^2$は次のように定義される。\n",
    "\n",
    "$$\n",
    "\\begin{align*}\n",
    "s^2 &= \\frac{\\sum_{i=1}^{n} (x_i - \\bar{x})^2}{n}\n",
    "\\end{align*}\n",
    "$$\n",
    "\n",
    "また、標本分散の平方根を標本標準偏差(standard deviation)と呼ぶ。\n",
    "\n",
    "標本分散は\n",
    "\n",
    "$$\n",
    "\\begin{align*}\n",
    "s^2 &= \\frac{\\sum_{i=1}^{n} (x_i - \\bar{x})^2}{n - 1}\n",
    "\\end{align*}\n",
    "$$\n",
    "\n",
    "とすることもある。区別するために、$n$で割った方を偏分散(biased variance)、 $n - 1$で割った方を不偏分散(unbiased variance)と呼ぶ。"
   ]
  },
  {
   "cell_type": "markdown",
   "metadata": {},
   "source": [
    "### 多変量観測値\n",
    "\n",
    "２つ以上の観測値が同時に得られる状況を考える。\n",
    "\n",
    "身体測定における体重と身長を同時に測る場合が例として挙げられる。\n",
    "\n",
    "$(x_1, y_1) \\cdots, (x_n, y_n)$: 与えられた観測値\n",
    "\n",
    "$x$や$y$を変数、あるいは変量と呼ぶ。複数の変量が観測されるから、多変量観測。"
   ]
  },
  {
   "cell_type": "markdown",
   "metadata": {},
   "source": [
    "####  定義 (相関係数)\n",
    "\n",
    "$(x_1, y_1) \\cdots, (x_n, y_n)$の観測値が与えられたもとで、相関係数(correlation coefficient) $r_{xy}$は次のように定義される。\n",
    "\n",
    "$$\n",
    "\\begin{align*}\n",
    "r_{xy} &= \\frac{\\sum_{i = 1}^{n}(x_i - \\bar{x})(y_i - \\bar{y})}{\\sqrt{\\sum_{i = 1}^{n}(x_i - \\bar{x})^2 \\sum_{i = 1}^{n}(y_i - \\bar{y})^2}} \\\\\n",
    "\\end{align*}\n",
    "$$\n",
    "\n",
    "2変量以上の場合は、相関係数は行列の形に表すと便利である。\n",
    "\n",
    "$(x_{1, 1},\\cdots, x_{1, m}) \\cdots, (x_{n, 1},\\cdots, x_{n, m})$の観測値が与えられたもとで、標本相関係数行列$R$は次のように定義される。\n",
    "\n",
    "$$\n",
    "\\begin{align*}\n",
    "R = \\begin{pmatrix}\n",
    "1 & r_{12} & \\cdots & r_{1m} \\\\\n",
    "r_{21} & 1 & \\cdots & r_{2m} \\\\\n",
    "\\vdots & \\vdots &  & \\vdots \\\\\n",
    "r_{m1} & r_{m2} & \\cdots & 1 \n",
    "\\end{pmatrix}\n",
    "\\end{align*}\n",
    "$$"
   ]
  },
  {
   "cell_type": "markdown",
   "metadata": {},
   "source": [
    "#### 命題\n",
    "\n",
    "$ 0 \\leq r_{xy} \\leq 1$"
   ]
  },
  {
   "cell_type": "markdown",
   "metadata": {},
   "source": [
    "#### 命題\n",
    "\n",
    "標本相関係数行列$R$は対称行列"
   ]
  },
  {
   "cell_type": "markdown",
   "metadata": {},
   "source": [
    "####  定義 (共分散)\n",
    "\n",
    "$(x_1, y_1) \\cdots, (x_n, y_n)$の観測値が与えられたもとで、共分散(covariance) $s_{xy}$は次のように定義される。\n",
    "\n",
    "$$\n",
    "\\begin{align*}\n",
    "s_{xy} = \\frac{1}{n}\\sum_{i = 1}^{n}(x_i - \\bar{x})(y_i - \\bar{y})\n",
    "\\end{align*}\n",
    "$$\n",
    "\n",
    "2変量以上の場合は、共分散も行列の形に表すと便利である。\n",
    "\n",
    "$(x_{1, 1},\\cdots, x_{1, m}) \\cdots, (x_{n, 1},\\cdots, x_{n, m})$の観測値が与えられたもとで、標本共分散行列$S$は次のように定義される。\n",
    "\n",
    "$$\n",
    "\\begin{align*}\n",
    "S = \\begin{pmatrix}\n",
    "1 & s_{12} & \\cdots & s_{1m} \\\\\n",
    "s_{21} & 1 & \\cdots & s_{2m} \\\\\n",
    "\\vdots & \\vdots &  & \\vdots \\\\\n",
    "s_{m1} & s_{m2} & \\cdots & 1 \n",
    "\\end{pmatrix}\n",
    "\\end{align*}\n",
    "$$"
   ]
  },
  {
   "cell_type": "markdown",
   "metadata": {},
   "source": [
    "$s_{xx}$は$x_1, \\cdots, x_n$の標本分散$s_x^2$と一致する。また、定義から、\n",
    "\n",
    "$$\n",
    "\\begin{align*}\n",
    "r_{xy} &= \\frac{s_{xy}}{\\sqrt{s_{xx}s_{yy}}} \\\\\n",
    "& =  \\frac{s_{xy}}{s_xs_y}\n",
    "\\end{align*}\n",
    "$$\n",
    "\n",
    "である。"
   ]
  },
  {
   "cell_type": "markdown",
   "metadata": {
    "pycharm": {
     "name": "#%% md\n"
    }
   },
   "source": [
    "#### 命題\n",
    "\n",
    "標本共分散行列$S$は対称行列"
   ]
  }
 ],
 "metadata": {
  "kernelspec": {
   "display_name": "Python 3",
   "language": "python",
   "name": "python3"
  },
  "language_info": {
   "codemirror_mode": {
    "name": "ipython",
    "version": 3
   },
   "file_extension": ".py",
   "mimetype": "text/x-python",
   "name": "python",
   "nbconvert_exporter": "python",
   "pygments_lexer": "ipython3",
   "version": "3.7.4"
  },
  "pycharm": {
   "stem_cell": {
    "cell_type": "raw",
    "source": [],
    "metadata": {
     "collapsed": false
    }
   }
  }
 },
 "nbformat": 4,
 "nbformat_minor": 4
}